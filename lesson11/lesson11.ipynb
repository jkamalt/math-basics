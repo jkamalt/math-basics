{
 "cells": [
  {
   "cell_type": "code",
   "execution_count": 1,
   "id": "9925cac2",
   "metadata": {},
   "outputs": [],
   "source": [
    "import numpy as np\n",
    "import matplotlib\n",
    "from matplotlib import pyplot as plt\n",
    "%matplotlib inline"
   ]
  },
  {
   "cell_type": "markdown",
   "id": "2cacd414",
   "metadata": {},
   "source": [
    "1. [Ряды](#series)\n",
    "    *  [Задание 1](#series_1)\n",
    "    *  [Задание 2](#series_2)\n",
    "    *  [Задание 3](#series_3)\n",
    "    *  [Задание 4](#series_4)\n",
    "    *  [Задание 5](#series_5)\n",
    "    *  [Задание 6](#series_6)"
   ]
  },
  {
   "cell_type": "markdown",
   "id": "3baae42f",
   "metadata": {},
   "source": [
    "# Ряды <a class='anchor' id='series'>"
   ]
  },
  {
   "cell_type": "markdown",
   "id": "9b52e3e1",
   "metadata": {},
   "source": [
    "### Задание 1 <a class='anchor' id='series_1'>\n",
    "\n",
    "*Исследовать ряд на сходимость, используя признак д’Аламбера*\n",
    "    \n",
    "$$\\sum_{n=1}^{\\infty} \\frac{n^n}{(n!)^2}.$$"
   ]
  },
  {
   "cell_type": "markdown",
   "id": "6a3b2502",
   "metadata": {},
   "source": [
    "Признак д'Аламбера:\n",
    "\n",
    "$$\\lim_{n \\to \\infty} \\frac{a_{n + 1}}{a_n} = q,$$\n",
    "\n",
    "если $q < 1$ - сходится, если $q > 1$ - расходится.\n",
    "\n",
    "Найдем предел\n",
    "\n",
    "$$q = \\lim_{n \\to \\infty} \\frac{a_{n + 1}}{a_n} = \\lim_{n \\to \\infty} \\frac{(n + 1)^{n + 1}}{((n + 1)!)^2} \\frac{(n!)^2}{n^n} = \\lim_{n \\to \\infty} \\frac{(n + 1)^{n + 1}}{n^n (n + 1)^2} = \\lim_{n \\to \\infty} \\frac{n^{n + 1}}{n^{n + 2} \\left(1 + \\frac{1}{n}\\right)^2} \\left(1 + \\frac{1}{n}\\right)^{n + 1} = \\lim_{n \\to \\infty} \\frac{1}{n \\left(1 + \\frac{1}{n}\\right)^2} \\left(1 + \\frac{1}{n}\\right)^{n + 1} = 0 \\cdot e = 0.$$\n",
    "\n",
    "Получили\n",
    "\n",
    "$$q = 0 < 1,$$\n",
    "\n",
    "т.е. ряд **сходится**."
   ]
  },
  {
   "cell_type": "markdown",
   "id": "4387e24c",
   "metadata": {},
   "source": [
    "### Задание 2 <a class='anchor' id='series_2'>\n",
    "\n",
    "*Исследовать ряд на сходимость, используя радикальный признак Коши*\n",
    "    \n",
    "$$\\sum_{n=1}^{\\infty} \\frac{n}{2^n}.$$"
   ]
  },
  {
   "cell_type": "markdown",
   "id": "a88f31fb",
   "metadata": {},
   "source": [
    "Радикальный признак Коши:\n",
    "\n",
    "$$\\lim_{n \\to \\infty} \\sqrt[n]{a_n} = q,$$\n",
    "\n",
    "если $q < 1$ - сходится, если $q > 1$ - расходится.\n",
    "\n",
    "Найдем предел\n",
    "\n",
    "$$q = \\lim_{n \\to \\infty} \\sqrt[n]{a_n} = \\lim_{n \\to \\infty} \\sqrt[n]{\\frac{n}{2^n}} = \\lim_{n \\to \\infty} \\frac{\\sqrt[n]{n}}{2} = \\frac{1}{2} \\cdot 1 = \\frac{1}{2}.$$\n",
    "\n",
    "Здесь использовали предел\n",
    "\n",
    "$$\\lim_{n \\to \\infty} \\sqrt[n]{n} = 1.$$\n",
    "\n",
    "Получили\n",
    "\n",
    "$$q = \\frac{1}{2} < 1,$$\n",
    "\n",
    "т.е. ряд **сходится**."
   ]
  },
  {
   "cell_type": "markdown",
   "id": "80070fdf",
   "metadata": {},
   "source": [
    "### Задание 3 <a class='anchor' id='series_3'>\n",
    "\n",
    "*Исследовать ряд на сходимость, используя признак Лейбница*\n",
    "    \n",
    "$$\\sum_{n=1}^{\\infty} \\frac{(-1)^n}{n + \\ln n}.$$"
   ]
  },
  {
   "cell_type": "markdown",
   "id": "6a446df5",
   "metadata": {},
   "source": [
    "Признак Лейбница: если\n",
    "\n",
    "1. $|a_n| \\geq |a_{n + 1}|$, начиная с некоторого номера $n \\geq N$,\n",
    "\n",
    "2. $\\lim_{n \\to \\infty} a_n = 0$,\n",
    "\n",
    "то ряд сходится. Если при этом сходится и ряд из модулей, то исходный ряд сходится абсолютно, иначе исходный ряд сходится условно.\n",
    "\n",
    "Проверим первое условие. Рассмотрим разность\n",
    "\n",
    "$$|a_n| - |a_{n + 1}| = \\frac{1}{n + \\ln n} - \\frac{1}{n + 1 + \\ln (n + 1)} > 0 \\; \\forall n \\geq 1.$$\n",
    "\n",
    "Очевидно, что первое слагаемое всегда больше, чем второе при $\\forall n \\geq 1$, т.к. логарифм - монотонно возрастающая функция, и знаменатель второй дроби всегда больше, чем знаменатель первой дроби. Первое условие выполнено.\n",
    "\n",
    "Проверим второе условие. Найдем предел\n",
    "\n",
    "$$\\lim_{n \\to \\infty} a_n = \\lim_{n \\to \\infty} \\frac{(-1)^n}{n + \\ln n} = \\lim_{n \\to \\infty} \\frac{(-1)^n}{n \\left(1 + \\frac{\\ln n}{n} \\right)} = 0.$$\n",
    "\n",
    "Второе условие выполнено.\n",
    "\n",
    "Т.е., исходный ряд сходится. Рассмотрим ряд из модулей:\n",
    "\n",
    "$$\\sum_{n=1}^{\\infty} \\frac{1}{n + \\ln n}.$$\n",
    "\n",
    "Этот ряд расходится по интегральному признаку Коши, т.к. расходится несобственный интеграл\n",
    "\n",
    "$$\\int_1^{+\\infty} \\frac{dx}{x + \\ln x}.$$\n",
    "\n",
    "Таким образом, исходный ряд **сходится условно**."
   ]
  },
  {
   "cell_type": "markdown",
   "id": "24b11963",
   "metadata": {},
   "source": [
    "### Задание 4 <a class='anchor' id='series_4'>\n",
    "\n",
    "*Исследовать ряд на сходимость, используя признак Раабе*\n",
    "    \n",
    "$$\\sum_{n=1}^{\\infty} \\frac{3^n}{2^n}.$$"
   ]
  },
  {
   "cell_type": "markdown",
   "id": "74582e8c",
   "metadata": {},
   "source": [
    "Признак Раабе: если существует предел \n",
    "\n",
    "$$\\lim_{n \\to \\infty} \\left(n \\left(\\frac{a_n}{a_{n + 1}} - 1\\right) \\right) = D,$$\n",
    "\n",
    "если $D > 1$ - сходится, если $D < 1$ - расходится.\n",
    "\n",
    "Найдем предел\n",
    "\n",
    "$$D = \\lim_{n \\to \\infty} \\left(n \\left(\\frac{a_n}{a_{n + 1}} - 1\\right) \\right) = \\lim_{n \\to \\infty} \\left(n \\left(\\frac{3^n}{2^n} \\frac{2^{n + 1}}{3^{n + 1}} - 1\\right) \\right) = \\lim_{n \\to \\infty} \\left(n \\left(\\frac{2}{3} - 1\\right) \\right) = -\\frac{1}{3}\\lim_{n \\to \\infty} n = -\\infty.$$\n",
    "\n",
    "Получили\n",
    "\n",
    "$$D = -\\infty < 1,$$\n",
    "\n",
    "т.е. ряд **расходится**."
   ]
  },
  {
   "cell_type": "markdown",
   "id": "6acde663",
   "metadata": {},
   "source": [
    "### Задание 5 <a class='anchor' id='series_5'>\n",
    "\n",
    "*Разложить функцию по Тейлору в единице*\n",
    "    \n",
    "$$f(x) = \\ln (16x^2).$$"
   ]
  },
  {
   "cell_type": "markdown",
   "id": "fb90fdac",
   "metadata": {},
   "source": [
    "Ряд Тейлора в точке $a$ функции $f(x)$ - ряд\n",
    "\n",
    "$$f(x) = \\sum_{n=0}^{\\infty} \\frac{f^{(n)} (a)}{n!} (x - a)^n.$$\n",
    "\n",
    "Запишем производные\n",
    "\n",
    "$$f'(x) = \\frac{32x}{16x^2} = \\frac{2}{x},$$\n",
    "\n",
    "$$f''(x) = -\\frac{2}{x^2},$$\n",
    "\n",
    "$$f'''(x) = \\frac{4}{x^3},$$\n",
    "\n",
    "$$f^{(4)}(x) = -\\frac{12}{x^4},$$\n",
    "\n",
    "$$f^{(5)}(x) = \\frac{48}{x^5},$$\n",
    "\n",
    "$$f^{(6)}(x) = -\\frac{240}{x^6},$$\n",
    "\n",
    "$$f^{(7)}(x) = \\frac{1440}{x^7}.$$\n",
    "\n",
    "Запишем слагаемые ряда в точке $a=1$\n",
    "\n",
    "$$f(1) = \\ln (16),$$\n",
    "\n",
    "$$f'(1)(x - 1) = 2(x - 1),$$\n",
    "\n",
    "$$\\frac{f''(1)}{2!}(x - 1)^2 = -(x - 1)^2,$$\n",
    "\n",
    "$$\\frac{f'''(1)}{3!}(x - 1)^3 = \\frac{2}{3}(x - 1)^3,$$\n",
    "\n",
    "$$\\frac{f^{(4)}(1)}{4!}(x - 1)^4 = -\\frac{1}{2}(x - 1)^4,$$\n",
    "\n",
    "$$\\frac{f^{(5)}(1)}{5!}(x - 1)^5 = \\frac{2}{5}(x - 1)^5,$$\n",
    "\n",
    "$$\\frac{f^{(6)}(1)}{6!}(x - 1)^6 = -\\frac{1}{3}(x - 1)^6,$$\n",
    "\n",
    "$$\\frac{f^{(7)}(1)}{7!}(x - 1)^7 = \\frac{2}{7}(x - 1)^7.$$\n",
    "\n",
    "Тогда ряд Тейлора функции $f(x) = \\ln (16x^2)$ в точке $a=1$ будет иметь вид:\n",
    "\n",
    "$$f(x) = \\ln (16) - \\sum_{n=1}^{\\infty} \\frac{1}{n}(x - 1)^{2n} + \\sum_{n=1}^{\\infty} \\frac{2}{2n - 1}(x - 1)^{2n - 1}.$$"
   ]
  },
  {
   "cell_type": "markdown",
   "id": "c720044a",
   "metadata": {},
   "source": [
    "### Задание 6 <a class='anchor' id='series_6'>\n",
    "\n",
    "*Дана функция*\n",
    "    \n",
    "$$f(x) = x^2.$$\n",
    "    \n",
    "* *Разложить функцию в ряд Фурье по косинусам на отрезке* $x \\in [-2; 0]$.\n",
    "* *Построить график функции и ее разложения.*"
   ]
  },
  {
   "cell_type": "markdown",
   "id": "d086656a",
   "metadata": {},
   "source": [
    "Непериодическая функция задана на отрезке $[-l; 0]$. Нужно разложить по косинусам, поэтому доопределим функцию на отрезке $[0; l]$ четным образом. Для полученной четной функции $f_1(x)$ на отрезке $[-l; l]$ ряд Фурье будет иметь вид (при интегрировании учитывается симметричность функции $f_1$):\n",
    "\n",
    "$$f_1(x) = \\frac{a_0}{2} + \\sum_{n = 1}^\\infty a_n \\cos \\frac{\\pi nx}{l},$$\n",
    "\n",
    "$$a_0 = \\frac{2}{l} \\int_{0}^l f(x) dx,$$\n",
    "\n",
    "$$a_n = \\frac{2}{l} \\int_{0}^l f(x) \\cos \\frac{\\pi nx}{l} dx.$$\n",
    "\n",
    "Т.к. $f(x)$ и $f_1(x)$ совпадают по построению на отрезке $[-l; 0]$, то полученный ряд будет рядом Фурье и для исходной функции $f(x)$ при $x \\in [-l; 0]$.\n",
    "\n",
    "Найдем коэффициенты ряда Фурье с учетом $l = 2$\n",
    "\n",
    "$$a_0 = \\frac{2}{l} \\int_{0}^l f(x) dx = \\int_{0}^2 x^2 dx = \\frac{1}{3} x^3 \\Big|_0^2 = \\frac{8}{3},$$\n",
    "\n",
    "$$a_n = \\frac{2}{l} \\int_{0}^l f(x) \\cos \\frac{\\pi nx}{l} dx = \\int_{0}^2 x^2 \\cos \\frac{\\pi nx}{2} dx.$$\n",
    "\n",
    "Вычислим этот интеграл по частям. \n",
    "\n",
    "$$U = x^2 \\Rightarrow dU = 2x dx,$$\n",
    "\n",
    "$$dV = \\cos \\frac{\\pi n x}{2} dx \\Rightarrow V = \\frac{2}{\\pi n} \\sin \\frac{\\pi n x}{2}.$$\n",
    "\n",
    "Тогда\n",
    "\n",
    "$$a_n = \\int_{0}^2 x^2 \\cos \\frac{\\pi nx}{2} dx = x^2 \\frac{2}{\\pi n} \\sin \\frac{\\pi n x}{2} \\Big|_0^2 - \\frac{4}{\\pi n} \\int_0^2 x \\sin \\frac{\\pi n x}{2} dx = - \\frac{4}{\\pi n} \\int_0^2 x \\sin \\frac{\\pi n x}{2} dx.$$\n",
    "\n",
    "$$a_n = -\\frac{4}{\\pi n} \\int_0^2 x \\sin \\frac{\\pi n x}{2} dx.$$\n",
    "\n",
    "Полученный интеграл также вычислим по частям.\n",
    "\n",
    "$$U = x \\Rightarrow dU = dx,$$\n",
    "\n",
    "$$dV = \\sin \\frac{\\pi n x}{2} dx \\Rightarrow V = -\\frac{2}{\\pi n} \\cos \\frac{\\pi n x}{2}.$$\n",
    "\n",
    "Тогда\n",
    "\n",
    "$$a_n = -\\frac{4}{\\pi n} \\int_0^2 x \\sin \\frac{\\pi n x}{2} dx = -\\frac{4}{\\pi n} \\left(-x \\frac{2}{\\pi n} \\cos \\frac{\\pi n x}{2} \\Big|_0^2 + \\frac{2}{\\pi n} \\int_0^2 \\cos \\frac{\\pi n x}{2} dx \\right) = \\frac{16}{\\pi^2 n^2} \\cos \\pi n = (-1)^n \\frac{16}{\\pi^2 n^2}, n \\geq 1.$$\n",
    "\n",
    "Второй интеграл очевидно равен 0, т.к. после интегрирования получится $\\sin \\frac{\\pi n x}{2}$, что в точках 0 и 2 будет равно 0.\n",
    "\n",
    "Получили\n",
    "\n",
    "$$a_0 = \\frac{8}{3},$$\n",
    "\n",
    "$$a_n = (-1)^n \\frac{16}{\\pi^2 n^2}, n \\geq 1.$$\n",
    "\n",
    "Тогда ряд Фурье функции $f_1(x)$ будет иметь вид:\n",
    "\n",
    "$$f_1(x) = \\frac{4}{3} + \\frac{16}{\\pi^2} \\sum_{n = 1}^\\infty \\frac{(-1)^n}{n^2} \\cos \\frac{\\pi nx}{2}, n \\geq 1.$$\n",
    "\n",
    "Таким образом, ряд Фурье функции $f(x)$ при $x \\in [-2; 0]$ имеет вид:\n",
    "\n",
    "$$f(x) = \\frac{4}{3} + \\frac{16}{\\pi^2} \\sum_{n = 1}^\\infty \\frac{(-1)^n}{n^2} \\cos \\frac{\\pi nx}{2}, n \\geq 1.$$"
   ]
  },
  {
   "cell_type": "code",
   "execution_count": 2,
   "id": "c51b8c4a",
   "metadata": {},
   "outputs": [],
   "source": [
    "def f_series(x):\n",
    "    series_sum = 0\n",
    "    for n in range(1, 1001):\n",
    "        series_sum += np.cos(0.5 * np.pi * n * x) * np.power(-1, n) / (n * n)\n",
    "    return 4.0 / 3 + series_sum * 16 / np.power(np.pi, 2)"
   ]
  },
  {
   "cell_type": "code",
   "execution_count": 3,
   "id": "562814f4",
   "metadata": {},
   "outputs": [
    {
     "data": {
      "image/png": "[encoded data removed]",
      "text/plain": [
       "<Figure size 720x720 with 1 Axes>"
      ]
     },
     "metadata": {
      "needs_background": "light"
     },
     "output_type": "display_data"
    }
   ],
   "source": [
    "x = np.linspace(-2, 0, 100)\n",
    "y = np.power(x, 2)\n",
    "y_series = f_series(x)\n",
    "\n",
    "plt.figure(figsize=(10, 10))\n",
    "plt.plot(x, y_series, label='y_series')\n",
    "plt.plot(x, y, label='y')\n",
    "plt.legend()\n",
    "\n",
    "plt.show()"
   ]
  }
 ],
 "metadata": {
  "kernelspec": {
   "display_name": "Python 3 (ipykernel)",
   "language": "python",
   "name": "python3"
  },
  "language_info": {
   "codemirror_mode": {
    "name": "ipython",
    "version": 3
   },
   "file_extension": ".py",
   "mimetype": "text/x-python",
   "name": "python",
   "nbconvert_exporter": "python",
   "pygments_lexer": "ipython3",
   "version": "3.10.0"
  }
 },
 "nbformat": 4,
 "nbformat_minor": 5
}
