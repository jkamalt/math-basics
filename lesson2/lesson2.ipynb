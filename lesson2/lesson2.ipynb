{
 "cells": [
  {
   "cell_type": "code",
   "execution_count": 1,
   "id": "92fe5b25",
   "metadata": {},
   "outputs": [],
   "source": [
    "import numpy as np\n",
    "import matplotlib\n",
    "from matplotlib import pyplot as plt\n",
    "%matplotlib inline"
   ]
  },
  {
   "cell_type": "code",
   "execution_count": 2,
   "id": "9e275f12",
   "metadata": {},
   "outputs": [],
   "source": [
    "matplotlib.rcParams.update({'font.size': 14})"
   ]
  },
  {
   "cell_type": "markdown",
   "id": "327640c8",
   "metadata": {},
   "source": [
    "1. [Введение в математический анализ](#intro)\n",
    "    *  [Задание 1](#intro_1)\n",
    "    *  [Задание 2](#intro_2)\n",
    "        *  [Пример 1](#intro_2_1)\n",
    "        *  [Пример 2](#intro_2_2)\n",
    "        *  [Пример 3](#intro_2_3)\n",
    "        *  [Пример 4](#intro_2_4)\n",
    "        *  [Пример 5](#intro_2_5)\n",
    "        *  [Пример 6](#intro_2_6)\n",
    "        *  [Пример 7](#intro_2_7)\n",
    "2. [Множество](#set)\n",
    "    *  [Задание 1](#set_1)\n",
    "    *  [Задание 2](#set_2)\n",
    "3. [Последовательность](#seq)\n",
    "    *  [Задание 1](#seq_1)\n",
    "        *  [Пример 1](#seq_1_1)\n",
    "        *  [Пример 2](#seq_1_2)\n",
    "        *  [Пример 3](#seq_1_3)\n",
    "        *  [Пример 4](#seq_1_4)\n",
    "    *  [Задание 2](#seq_2)\n",
    "    *  [Задание 3](#seq_3)\n"
   ]
  },
  {
   "cell_type": "markdown",
   "id": "18a96fc6",
   "metadata": {},
   "source": [
    "# Введение в математический анализ <a class='anchor' id='intro'>"
   ]
  },
  {
   "cell_type": "markdown",
   "id": "015102b3",
   "metadata": {},
   "source": [
    "### Задание 1 <a class='anchor' id='intro_1'>\n",
    "\n",
    "*Как соотносятся понятия “множество” и “последовательность”? (в ответе использовать слова типа: часть, целое, общее, частное, родитель, дочерний субъект и т.д.)*"
   ]
  },
  {
   "cell_type": "markdown",
   "id": "edbc301c",
   "metadata": {},
   "source": [
    "Последовательность - это счетное множество, т.е. частный случай множества."
   ]
  },
  {
   "cell_type": "markdown",
   "id": "70fc41dd",
   "metadata": {},
   "source": [
    "### Задание 2 <a class='anchor' id='intro_2'>\n",
    "\n",
    "*Прочитать высказывания математической логики, построить их отрицания и установить истинность.*"
   ]
  },
  {
   "cell_type": "markdown",
   "id": "d06e14c0",
   "metadata": {},
   "source": [
    "#### Пример 1 <a class='anchor' id='intro_2_1'>\n",
    "\n",
    "$$\\forall y \\in [0, 1]: \\text{sgn} (y) = 1$$\n",
    "\n",
    "Для любого $y$ из отрезка $[0, 1]$ выполняется $\\text{sgn} (y) = 1$.\n",
    "\n",
    "Это высказывание является **ложным**, т.к. существует $y = 0$ из этого отрезка, для которого $\\text{sgn} (0) = 0$.\n",
    "\n",
    "Построим отрицание:\n",
    "\n",
    "$$\\exists y \\in [0, 1]: \\text{sgn} (y) \\neq 1$$\n",
    "\n",
    "Существет $y$ из отрезка $[0, 1]$ такой, что функция $\\text{sgn} (y)$ не равна 1."
   ]
  },
  {
   "cell_type": "markdown",
   "id": "5ddb4511",
   "metadata": {},
   "source": [
    "#### Пример 2 <a class='anchor' id='intro_2_2'>\n",
    "\n",
    "$$\\forall n \\in \\mathbb{N} > 2: \\exists x, y, z \\in \\mathbb{N}: x^n = y^n + z^n$$\n",
    "\n",
    "Для любого натурального числа $n$ большего 2 существуют $x, y, z$ из множества натуральных чисел такие, что выполняется равенство $x^n = y^n + z^n$.\n",
    "\n",
    "Согласно великой теореме Ферма это утверждение **ложно**. Теорема утверждает, что такое уравнение не имеет решений в целых ненулевых числах $x, y, z$.\n",
    "\n",
    "Построим отрицание:\n",
    "\n",
    "$$\\exists n \\in \\mathbb{N} > 2: \\forall x, y, z \\in \\mathbb{N}: x^n \\neq y^n + z^n$$\n",
    "\n",
    "Существует натуральное число $n$ большее 2 такое, что для любых $x, y, z$ из множества натуральных чисел равенство $x^n = y^n + z^n$ не выполняется."
   ]
  },
  {
   "cell_type": "markdown",
   "id": "f669b309",
   "metadata": {},
   "source": [
    "#### Пример 3 <a class='anchor' id='intro_2_3'>\n",
    "\n",
    "$$\\forall x \\in \\mathbb{R} \\; \\exists \\; X \\in \\mathbb{R}: X > x$$\n",
    "\n",
    "Для любого вещественного числа $x$ существует вещественное число $X$ такое, что $X$ больше $x$.\n",
    "\n",
    "Это утверждение очевидно **верно**.\n",
    "\n",
    "Построим отрицание:\n",
    "\n",
    "$$\\exists x \\in \\mathbb{R}: \\forall X \\in \\mathbb{R}: X \\le x $$\n",
    "\n",
    "Существует вещественное число $x$ такое, что любое вещественное число $X$ меньше или равно числа $x$."
   ]
  },
  {
   "cell_type": "markdown",
   "id": "d8531a41",
   "metadata": {},
   "source": [
    "#### Пример 4 <a class='anchor' id='intro_2_4'>\n",
    "\n",
    "$$\\forall x \\in \\mathbb{C} \\; \\nexists y \\in \\mathbb{C}: x > y \\; || \\; x < y$$\n",
    "\n",
    "Для любого комплексного числа $x$ не существует другое комплексное число $y$ большее или меньшее, чем $x$.\n",
    "\n",
    "Это утверждение **верно**, т.к. комплексные числа нельзя сравнивать на больше/меньше.\n",
    "\n",
    "Построим отрицание:\n",
    "\n",
    "$$\\exists x \\in \\mathbb{C}: \\exists y \\in \\mathbb{C}: x > y \\; || \\; x < y$$\n",
    "\n",
    "Существует комплексное число $x$ такое, что для него существует другое комплексное число $y$ большее или меньшее, чем $x$."
   ]
  },
  {
   "cell_type": "markdown",
   "id": "4f59c5d9",
   "metadata": {},
   "source": [
    "#### Пример 5 <a class='anchor' id='intro_2_5'>\n",
    "\n",
    "$$\\forall y \\in \\left[0, \\frac{\\pi}{2} \\right] \\exists \\varepsilon > 0: \\sin (y) < \\sin (y + \\varepsilon)$$\n",
    "\n",
    "Для любого $y$ из отрезка $\\left[0, \\frac{\\pi}{2} \\right]$ существует $\\varepsilon$ большее 0 такое, что выполняется $\\sin (y) < \\sin (y + \\varepsilon)$.\n",
    "\n",
    "Это утверждение **ложно**, т.к. существует $y = 0$ из этого отрезка, для которого $\\sin (0) = 1 \\ge \\sin (y)$ для любого $y$.\n",
    "\n",
    "Построим отрицание:\n",
    "\n",
    "$$\\exists y \\in \\left[0, \\frac{\\pi}{2} \\right]: \\forall \\varepsilon > 0: \\sin (y) \\ge \\sin (y + \\varepsilon)$$\n",
    "\n",
    "Существует $y$ из отрезка $\\left[0, \\frac{\\pi}{2} \\right]$ такое, что для любого $\\varepsilon$ большего 0, выполняется $\\sin (y) \\ge \\sin (y + \\varepsilon)$."
   ]
  },
  {
   "cell_type": "markdown",
   "id": "1c5d02ec",
   "metadata": {},
   "source": [
    "#### Пример 6 <a class='anchor' id='intro_2_6'>\n",
    "\n",
    "$$\\forall y \\in [0, \\pi) \\; \\exists \\varepsilon > 0: \\cos (y) > \\cos (y + \\varepsilon)$$\n",
    "\n",
    "Для любого $y$ из полуинтервала $[0, \\pi)$ существует $\\varepsilon$ большее 0 такое, что выполняется $\\cos (y) > \\cos (y + \\varepsilon)$.\n",
    "\n",
    "Это утверждение **верно**, т.к. для любого $y$ из полуинтервала $[0, \\pi)$ существует $\\varepsilon = \\pi - y > 0$ такое, что $\\cos(y) > \\cos(y + \\pi - y) = \\cos(\\pi) = -1$, т.к. в этом случае $\\cos(y) \\in (-1, 1]$.\n",
    "\n",
    "Построим отрицание:\n",
    "\n",
    "$$\\exists y \\in [0, \\pi): \\forall \\varepsilon > 0: \\cos (y) \\le \\cos (y + \\varepsilon)$$\n",
    "\n",
    "Существует $y$ из полуинтервала $[0, \\pi)$ такое, что для любого $\\varepsilon$ большего 0, выполняется $\\cos (y) \\le \\cos (y + \\varepsilon)$."
   ]
  },
  {
   "cell_type": "markdown",
   "id": "57ce4541",
   "metadata": {},
   "source": [
    "#### Пример 7 <a class='anchor' id='intro_2_7'>\n",
    "\n",
    "$$\\exists x: x \\notin \\{ \\mathbb{N}, \\mathbb{Z}, \\mathbb{Q}, \\mathbb{R}, \\mathbb{C} \\}$$\n",
    "\n",
    "Существует число $x$, которое не принадлежит множеству чисел $\\{ \\mathbb{N}, \\mathbb{Z}, \\mathbb{Q}, \\mathbb{R}, \\mathbb{C} \\}$.\n",
    "\n",
    "Это утверждение **ложно**, т.к. $\\{ \\mathbb{N}, \\mathbb{Z}, \\mathbb{Q}, \\mathbb{R}, \\mathbb{C} \\}$ - это множество всех чисел.\n",
    "\n",
    "Построим отрицание:\n",
    "\n",
    "$$\\forall x \\in \\{ \\mathbb{N}, \\mathbb{Z}, \\mathbb{Q}, \\mathbb{R}, \\mathbb{C} \\}$$\n",
    "\n",
    "Любое число принадлежит множеству всех чисел."
   ]
  },
  {
   "cell_type": "markdown",
   "id": "0a5c0167",
   "metadata": {},
   "source": [
    "# Множество <a class='anchor' id='set'>"
   ]
  },
  {
   "cell_type": "markdown",
   "id": "715036d2",
   "metadata": {},
   "source": [
    "### Задание 1 <a class='anchor' id='set_1'>\n",
    "\n",
    "*Даны три множества a,b и с. Необходимо выполнить все изученные виды бинарных операций над всеми комбинациями множеств.*"
   ]
  },
  {
   "cell_type": "markdown",
   "id": "1d660f8b",
   "metadata": {},
   "source": [
    "$$A = \\{1, 2, 3, 4, 5\\}$$\n",
    "\n",
    "$$B = \\{3, 4, 5, 6, 7\\}$$\n",
    "\n",
    "$$C = \\{1, 3, 5\\}$$\n",
    "\n",
    "Выполним различные бинарные операции c $A$ и $B$:\n",
    "\n",
    "$$A \\cup B = \\{1, 2, 3, 4, 5, 6, 7\\}$$\n",
    "\n",
    "$$A \\cap B = \\{3, 4, 5\\}$$\n",
    "\n",
    "$$A \\setminus B = \\{1, 2\\}$$\n",
    "\n",
    "$$A \\Delta B = \\{1, 2, 6, 7\\}$$\n",
    "\n",
    "Выполним различные бинарные операции c $A$ и $C$:\n",
    "\n",
    "$$A \\cup C = \\{1, 2, 3, 4, 5\\}$$\n",
    "\n",
    "$$A \\cap C = \\{1, 3, 5\\}$$\n",
    "\n",
    "$$A \\setminus C = \\{2, 4\\}$$\n",
    "\n",
    "$$A \\Delta C = \\{2, 4\\}$$\n",
    "\n",
    "Выполним различные бинарные операции c $B$ и $C$:\n",
    "\n",
    "$$B \\cup C = \\{1, 3, 4, 5, 6, 7\\}$$\n",
    "\n",
    "$$B \\cap C = \\{3, 5\\}$$\n",
    "\n",
    "$$B \\setminus C = \\{4, 6, 7\\}$$\n",
    "\n",
    "$$B \\Delta C = \\{1, 4, 6, 7\\}$$"
   ]
  },
  {
   "cell_type": "markdown",
   "id": "8e1a0c9f",
   "metadata": {},
   "source": [
    "### Задание 2 <a class='anchor' id='set_2'>\n",
    "\n",
    "*Выполнить задание 1 на языке Python.*"
   ]
  },
  {
   "cell_type": "code",
   "execution_count": 3,
   "id": "7d2116a1",
   "metadata": {},
   "outputs": [],
   "source": [
    "A = {1, 2, 3, 4, 5}\n",
    "B = {3, 4, 5, 6, 7}\n",
    "C = {1, 3, 5}"
   ]
  },
  {
   "cell_type": "code",
   "execution_count": 4,
   "id": "f2fa79a0",
   "metadata": {},
   "outputs": [
    {
     "name": "stdout",
     "output_type": "stream",
     "text": [
      "A | B = {1, 2, 3, 4, 5, 6, 7}\n",
      "A & B = {3, 4, 5}\n",
      "A - B = {1, 2}\n",
      "A ^ B = {1, 2, 6, 7}\n"
     ]
    }
   ],
   "source": [
    "print(f'A | B = {A.union(B)}')\n",
    "print(f'A & B = {A.intersection(B)}')\n",
    "print(f'A - B = {A.difference(B)}')\n",
    "print(f'A ^ B = {A.symmetric_difference(B)}')"
   ]
  },
  {
   "cell_type": "code",
   "execution_count": 5,
   "id": "20998887",
   "metadata": {},
   "outputs": [
    {
     "name": "stdout",
     "output_type": "stream",
     "text": [
      "A | C = {1, 2, 3, 4, 5}\n",
      "A & C = {1, 3, 5}\n",
      "A - C = {2, 4}\n",
      "A ^ C = {2, 4}\n"
     ]
    }
   ],
   "source": [
    "print(f'A | C = {A.union(C)}')\n",
    "print(f'A & C = {A.intersection(C)}')\n",
    "print(f'A - C = {A.difference(C)}')\n",
    "print(f'A ^ C = {A.symmetric_difference(C)}')"
   ]
  },
  {
   "cell_type": "code",
   "execution_count": 6,
   "id": "a6e57230",
   "metadata": {},
   "outputs": [
    {
     "name": "stdout",
     "output_type": "stream",
     "text": [
      "B | C = {1, 3, 4, 5, 6, 7}\n",
      "B & C = {3, 5}\n",
      "B - C = {4, 6, 7}\n",
      "B ^ C = {1, 4, 6, 7}\n"
     ]
    }
   ],
   "source": [
    "print(f'B | C = {B.union(C)}')\n",
    "print(f'B & C = {B.intersection(C)}')\n",
    "print(f'B - C = {B.difference(C)}')\n",
    "print(f'B ^ C = {B.symmetric_difference(C)}')"
   ]
  },
  {
   "cell_type": "markdown",
   "id": "3572231c",
   "metadata": {},
   "source": [
    "# Последовательность <a class='anchor' id='seq'>"
   ]
  },
  {
   "cell_type": "markdown",
   "id": "df9b2714",
   "metadata": {},
   "source": [
    "### Задание 1 <a class='anchor' id='seq_1'>\n",
    "\n",
    "*Даны 4 последовательности. Необходимо:*\n",
    "* *исследовать их на монотонность;*\n",
    "* *исследовать на ограниченность;*\n",
    "* *найти пятый по счету член.*"
   ]
  },
  {
   "cell_type": "markdown",
   "id": "eb6daa2b",
   "metadata": {},
   "source": [
    "#### Пример 1 <a class='anchor' id='seq_1_1'>\n",
    "\n",
    "$$\\{a_n\\}^{\\infty}_{n=1} = 2^n - n$$\n",
    "\n",
    "Исследуем на монотонность:\n",
    "\n",
    "$$a_{n+1} - a_n = 2^{n+1} - n - 1 - 2^n + n = 2 \\cdot 2^n - 2^n - 1 =  2^n -1 > 0, \\; n \\ge 1,$$\n",
    "\n",
    "т.е. $a_{n+1} > a_n$ - последовательность является **монотонной возрастающей**.\n",
    "\n",
    "Исследуем на ограниченность. Последовательность **ограничена снизу** значением $2^1 - 1 = 1$. \n",
    "\n",
    "Очевидно, что при $n \\to \\infty$ последовательность стремится к бесконечности, т.к. состоит из показательной функции, т.е. последовательность **не ограничена сверху**.\n",
    "\n",
    "Построим график, чтобы проиллюстрировать полученный результат."
   ]
  },
  {
   "cell_type": "code",
   "execution_count": 7,
   "id": "4c417f80",
   "metadata": {},
   "outputs": [
    {
     "data": {
      "image/png": "[encoded data removed]",
      "text/plain": [
       "<Figure size 432x288 with 1 Axes>"
      ]
     },
     "metadata": {
      "needs_background": "light"
     },
     "output_type": "display_data"
    }
   ],
   "source": [
    "n = np.arange(1, 20)\n",
    "a = np.power(2, n) - n\n",
    "\n",
    "plt.plot(n, a)\n",
    "plt.show()"
   ]
  },
  {
   "cell_type": "markdown",
   "id": "dc517f21",
   "metadata": {},
   "source": [
    "Найдем пятый по счету член последовательности:\n",
    "\n",
    "$$a_5 = 2^5 - 5 = 27.$$\n",
    "\n",
    "Таким образом, $a_5 = 27$."
   ]
  },
  {
   "cell_type": "markdown",
   "id": "e8dd10a3",
   "metadata": {},
   "source": [
    "#### Пример 2 <a class='anchor' id='seq_1_2'>\n",
    "\n",
    "$$\\{b_n\\}^{\\infty}_{n=2} = \\frac{1}{1-n}$$\n",
    "\n",
    "Исследуем на монотонность:\n",
    "\n",
    "$$b_{n+1} - b_n = \\frac{1}{1 - n - 1} - \\frac{1}{1-n}= -\\frac{1}{n} - \\frac{1}{1-n} = - \\frac{1}{n(1-n)} > 0, \\; n\\ge 2,$$\n",
    "\n",
    "т.е. $b_{n+1} > b_n$ - последовательность является **монотонной возрастающей**.\n",
    "\n",
    "Исследуем на ограниченность. Последовательность **ограничена снизу** значением $\\frac{1}{1-2}=-1$.\n",
    "\n",
    "Очевидно\n",
    "\n",
    "$$\\lim_{n \\to \\infty} \\frac{1}{1-n} = 0.$$\n",
    "\n",
    "Т.е. последовательность **ограничена сверху** значением 0."
   ]
  },
  {
   "cell_type": "code",
   "execution_count": 8,
   "id": "e3455bb4",
   "metadata": {},
   "outputs": [
    {
     "data": {
      "image/png": "[encoded data removed]",
      "text/plain": [
       "<Figure size 432x288 with 1 Axes>"
      ]
     },
     "metadata": {
      "needs_background": "light"
     },
     "output_type": "display_data"
    }
   ],
   "source": [
    "n = np.arange(2, 101)\n",
    "a = 1 / (1 - n)\n",
    "\n",
    "plt.plot(n, a)\n",
    "plt.show()"
   ]
  },
  {
   "cell_type": "markdown",
   "id": "07edaac3",
   "metadata": {},
   "source": [
    "Найдем пятый по счету член последовательности:\n",
    "\n",
    "$$b_5 = \\frac{1}{1-5} = -\\frac{1}{4}.$$\n",
    "\n",
    "Таким образом, $b_5 = -\\frac{1}{4}$."
   ]
  },
  {
   "cell_type": "markdown",
   "id": "39309d96",
   "metadata": {},
   "source": [
    "#### Пример 3 <a class='anchor' id='seq_1_3'>\n",
    "\n",
    "$$\\{c_n\\}^{\\infty}_{n=1} = (-1)^n + \\sqrt{2n}$$\n",
    "\n",
    "Исследуем на монотонность:\n",
    "\n",
    "$$c_{n+1} - c_n = (-1)^{n+1} + \\sqrt{2(n+1)} - (-1)^n - \\sqrt{2n} = 2(-1)^{n+1} + \\left(\\sqrt{2n + 2} - \\sqrt{2n}\\right), \\; n \\ge 1,$$\n",
    "\n",
    "второе слагаемое в скобках положительное. Первое слагаемое при разных $n$ имеет разный знак. Следовательно, последовательность **не монотонная**.\n",
    "\n",
    "Исследуем на ограниченность. Последовательность **ограничена снизу** значением $-1 + \\sqrt{2}$.\n",
    "\n",
    "Очевидно, что при $n \\to \\infty$ последовательность стремится к бесконечности, т.е. последовательность **не ограничена сверху**."
   ]
  },
  {
   "cell_type": "code",
   "execution_count": 9,
   "id": "22d1cf61",
   "metadata": {},
   "outputs": [
    {
     "data": {
      "image/png": "[encoded data removed]",
      "text/plain": [
       "<Figure size 432x288 with 1 Axes>"
      ]
     },
     "metadata": {
      "needs_background": "light"
     },
     "output_type": "display_data"
    }
   ],
   "source": [
    "n = np.arange(1, 101)\n",
    "a = np.power(-1, n) + np.sqrt(2 * n)\n",
    "\n",
    "plt.plot(n, a)\n",
    "plt.show()"
   ]
  },
  {
   "cell_type": "markdown",
   "id": "bc40b3b2",
   "metadata": {},
   "source": [
    "Найдем пятый по счету член последовательности:\n",
    "\n",
    "$$c_5 = (-1)^5 + \\sqrt{2 \\cdot 5} = \\sqrt{10} - 1.$$\n",
    "\n",
    "Таким образом, $c_5 = \\sqrt{10} - 1$."
   ]
  },
  {
   "cell_type": "markdown",
   "id": "2e8fc075",
   "metadata": {},
   "source": [
    "#### Пример 4 <a class='anchor' id='seq_1_4'>\n",
    "\n",
    "$$\\{d_n\\}^{\\infty}_{n=1} = (-1)^{2n} + \\frac{1}{n^2}$$\n",
    "\n",
    "Исследуем на монотонность:\n",
    "\n",
    "$$d_{n+1} - d_n = (-1)^{2(n+1)} + \\frac{1}{(n+1)^2} - (-1)^{2n} + \\frac{1}{n^2} = \\frac{1}{(n+1)^2} - \\frac{1}{n^2} < 0, \\; n \\ge 1,$$\n",
    "т.к. $\\frac{1}{(n+1)^2}$ меньше, чем $\\frac{1}{n^2}$, т.е. последовательность является **монотонной убывающей**.\n",
    "\n",
    "Исследуем на ограниченность. Последовательность **ограничена сверху** значением $(-1)^{2} + 1 = 2$.\n",
    "\n",
    "Вычислим предел:\n",
    "\n",
    "$$\\lim_{n \\to \\infty} \\left[ (-1)^{2n} + \\frac{1}{n^2} \\right] = 1.$$\n",
    "\n",
    "Т.е. последовательность **ограничена снизу** значением 1."
   ]
  },
  {
   "cell_type": "code",
   "execution_count": 10,
   "id": "2c00ace3",
   "metadata": {},
   "outputs": [
    {
     "data": {
      "image/png": "[encoded data removed]",
      "text/plain": [
       "<Figure size 432x288 with 1 Axes>"
      ]
     },
     "metadata": {
      "needs_background": "light"
     },
     "output_type": "display_data"
    }
   ],
   "source": [
    "n = np.arange(1, 101)\n",
    "a = np.power(-1, 2 * n) + 1 / np.power(n, 2)\n",
    "\n",
    "plt.plot(n, a)\n",
    "plt.show()"
   ]
  },
  {
   "cell_type": "markdown",
   "id": "31a25029",
   "metadata": {},
   "source": [
    "Найдем пятый по счету член последовательности:\n",
    "\n",
    "$$d_5 = (-1)^{2 \\cdot 5} + \\frac{1}{5^2} = 1 + \\frac{1}{25} = \\frac{26}{25}.$$\n",
    "\n",
    "Таким образом, $d_5 = \\frac{26}{25}$."
   ]
  },
  {
   "cell_type": "markdown",
   "id": "aefd3792",
   "metadata": {},
   "source": [
    "### Задание 2 <a class='anchor' id='seq_2'>\n",
    "\n",
    "*Найти 12-й член заданной неявно последовательности:*\n",
    "\n",
    "$$a_1 = 128, \\; a_{n+1} - a_n = 6.$$"
   ]
  },
  {
   "cell_type": "markdown",
   "id": "ac3c7afa",
   "metadata": {},
   "source": [
    "Эта последовательность является арифметической прогрессией. Любой $n$-й член прогрессии может быть вычислен по формуле общего члена:\n",
    "\n",
    "$$a_n = a_1 + (n-1)d.$$\n",
    "\n",
    "По условию задачи $d = a_{n+1} - a_n = 6$. Тогда для $n=12$ получим:\n",
    "\n",
    "$$a_{12} = a_1 + 11d = 128 + 11 \\cdot 6 = 194.$$\n",
    "\n",
    "Таким образом, $a_{12} = 194$."
   ]
  },
  {
   "cell_type": "markdown",
   "id": "3d0c8212",
   "metadata": {},
   "source": [
    "### Задание 3 <a class='anchor' id='seq_3'>\n",
    "\n",
    "*На языке Python предложить алгоритм вычисляющий численно предел с точностью $\\varepsilon = 10^{-7}$:*\n",
    "\n",
    "$$\\lim_{n \\to +\\infty} \\frac{n}{\\sqrt[\\leftroot{-2}\\uproot{2} n]{n!}}.$$"
   ]
  },
  {
   "cell_type": "markdown",
   "id": "2f551672",
   "metadata": {},
   "source": [
    "Заменим факториал по формуле Стирлинга:\n",
    "\n",
    "$$n! \\approx \\sqrt{2 \\pi n} \\left( \\frac{n}{e} \\right)^n.$$\n",
    "\n",
    "Подставим в знаменатель дроби:\n",
    "\n",
    "$$\\sqrt[\\leftroot{-2}\\uproot{2} n]{n!} = \\left[ (2 \\pi n)^{\\frac{1}{2}} \\left( \\frac{n}{e} \\right)^n \\right]^{\\frac{1}{n}} = (2 \\pi n)^{\\frac{1}{2n}} \\frac{n}{e}.$$\n",
    "\n",
    "Тогда:\n",
    "\n",
    "$$\\frac{n}{\\sqrt[\\leftroot{-2}\\uproot{2} n]{n!}} = \\frac{e}{(2 \\pi n)^{\\frac{1}{2n}}}.$$\n",
    "\n",
    "Тогда вместо исходного можно вычислить предел:\n",
    "\n",
    "$$\\lim_{n \\to +\\infty} \\frac{n}{\\sqrt[\\leftroot{-2}\\uproot{2} n]{n!}} = e \\lim_{n \\to +\\infty} \\frac{1}{(2 \\pi n)^{\\frac{1}{2n}}}.$$\n",
    "\n",
    "Заметим при этом \n",
    "\n",
    "$$\\lim_{n \\to +\\infty} \\frac{1}{(2 \\pi n)^{\\frac{1}{2n}}} = 1,$$\n",
    "\n",
    "т.к.\n",
    "\n",
    "$$\\lim_{n \\to +\\infty} (2 \\pi n)^{\\frac{1}{2n}} = \\lim_{n \\to +\\infty} \\sqrt[\\leftroot{-2}\\uproot{2} 2n]{\\pi} \\cdot \\lim_{n \\to +\\infty} \\sqrt[\\leftroot{-2}\\uproot{2} 2n]{2n} = 1,$$\n",
    "\n",
    "где предел каждого из слагаемых равен 1.\n",
    "\n",
    "Тогда\n",
    "\n",
    "$$\\lim_{n \\to +\\infty} \\frac{n}{\\sqrt[\\leftroot{-2}\\uproot{2} n]{n!}} = e.$$"
   ]
  },
  {
   "cell_type": "code",
   "execution_count": 11,
   "id": "c6125999",
   "metadata": {},
   "outputs": [],
   "source": [
    "def calc_limit():\n",
    "    k = 2\n",
    "    prev = 0\n",
    "    while True:\n",
    "        n = np.power(2, k)\n",
    "        cur = 1 / np.power(2 * np.pi * n, 0.5 / n)\n",
    "        if np.isclose(cur, prev, rtol=1e-7):\n",
    "            break\n",
    "        prev = cur\n",
    "        k += 1\n",
    "    return np.e * cur"
   ]
  },
  {
   "cell_type": "code",
   "execution_count": 12,
   "id": "d6fbf070",
   "metadata": {},
   "outputs": [
    {
     "name": "stdout",
     "output_type": "stream",
     "text": [
      "2.718281620332891\n"
     ]
    }
   ],
   "source": [
    "print(calc_limit())"
   ]
  },
  {
   "cell_type": "markdown",
   "id": "65bbcfdf",
   "metadata": {},
   "source": [
    "Получили:\n",
    "\n",
    "$$\\lim_{n \\to +\\infty} \\frac{n}{\\sqrt[\\leftroot{-2}\\uproot{2} n]{n!}} = 2.718.$$"
   ]
  },
  {
   "cell_type": "code",
   "execution_count": 13,
   "id": "b93a1fc8",
   "metadata": {},
   "outputs": [
    {
     "data": {
      "image/png": "[encoded data removed]",
      "text/plain": [
       "<Figure size 432x288 with 1 Axes>"
      ]
     },
     "metadata": {
      "needs_background": "light"
     },
     "output_type": "display_data"
    }
   ],
   "source": [
    "n = np.arange(1, 1001)\n",
    "a = np.e / np.power(2 * np.pi * n, 0.5 / n)\n",
    "\n",
    "plt.plot(n, a)\n",
    "plt.show()"
   ]
  }
 ],
 "metadata": {
  "kernelspec": {
   "display_name": "Python 3 (ipykernel)",
   "language": "python",
   "name": "python3"
  },
  "language_info": {
   "codemirror_mode": {
    "name": "ipython",
    "version": 3
   },
   "file_extension": ".py",
   "mimetype": "text/x-python",
   "name": "python",
   "nbconvert_exporter": "python",
   "pygments_lexer": "ipython3",
   "version": "3.10.0"
  }
 },
 "nbformat": 4,
 "nbformat_minor": 5
}
