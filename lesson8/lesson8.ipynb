{
 "cells": [
  {
   "cell_type": "markdown",
   "id": "9b8af87c",
   "metadata": {},
   "source": [
    "1. [Производные функций нескольких переменных](#part_der)\n",
    "    *  [Задание 1](#part_der_1)\n",
    "    *  [Задание 2](#part_der_2)\n",
    "    *  [Задание 3](#part_der_3)\n",
    "    *  [Задание 4](#part_der_4)"
   ]
  },
  {
   "cell_type": "markdown",
   "id": "204bd72f",
   "metadata": {},
   "source": [
    "# Производные функций нескольких переменных <a class='anchor' id='part_der'>"
   ]
  },
  {
   "cell_type": "markdown",
   "id": "b42ba9e7",
   "metadata": {},
   "source": [
    "### Задание 1 <a class='anchor' id='part_der_1'>\n",
    "\n",
    "*Найти область определения функции*\n",
    "\n",
    "$$z = \\sqrt{1 - x^3} + \\ln (y^2 - 1).$$"
   ]
  },
  {
   "cell_type": "markdown",
   "id": "02dcf9c8",
   "metadata": {},
   "source": [
    "Область определения функции:\n",
    "\n",
    "$$\\begin{cases}\n",
    "   1 - x^3 \\geq 0,\\\\\n",
    "   y^2 - 1 > 0.\n",
    "\\end{cases}$$\n",
    "\n",
    "Тогда\n",
    "\n",
    "$$\\begin{cases}\n",
    "   x^3 \\leq 1,\\\\\n",
    "   y^2 > 1.\n",
    "\\end{cases}$$\n",
    "\n",
    "Получили область определения функции\n",
    "\n",
    "$$\\begin{cases}\n",
    "   x \\in (-\\infty, 1],\\\\\n",
    "   y \\in (-\\infty, -1) \\cup (1, +\\infty).\n",
    "\\end{cases}$$"
   ]
  },
  {
   "cell_type": "markdown",
   "id": "d997a374",
   "metadata": {},
   "source": [
    "### Задание 2 <a class='anchor' id='part_der_2'>\n",
    "\n",
    "*Найти производные 1-го порядка функции*\n",
    "\n",
    "$$z = \\left(1 + \\frac{\\ln x}{\\ln y} \\right)^3.$$"
   ]
  },
  {
   "cell_type": "markdown",
   "id": "01e8f29f",
   "metadata": {},
   "source": [
    "Производные 1-го порядка:\n",
    "\n",
    "$$z'_x = \\frac{3}{x \\: \\ln y} \\left(1 + \\frac{\\ln x}{\\ln y} \\right)^2,$$\n",
    "\n",
    "$$z'_y = - \\frac{3 \\ln x}{y \\: \\ln^2 y} \\left(1 + \\frac{\\ln x}{\\ln y} \\right)^2.$$"
   ]
  },
  {
   "cell_type": "markdown",
   "id": "9699485f",
   "metadata": {},
   "source": [
    "### Задание 3 <a class='anchor' id='part_der_3'>\n",
    "\n",
    "*Найти полный дифференциал функции в точке $(1; 1)$*\n",
    "\n",
    "$$z = \\sqrt{2xy + \\cos \\frac{x}{y}}.$$"
   ]
  },
  {
   "cell_type": "markdown",
   "id": "817f83d1",
   "metadata": {},
   "source": [
    "Полный дифференциал функции нескольких переменных:\n",
    "\n",
    "$$dz = \\frac{\\partial z}{\\partial x} dx + \\frac{\\partial z}{\\partial y} dy.$$\n",
    "\n",
    "Запишем частные производные\n",
    "\n",
    "$$\\frac{\\partial z}{\\partial x} = \\frac{2y - \\frac{1}{y}\\sin \\frac{x}{y}}{2 \\sqrt{2xy + \\cos \\frac{x}{y}}} = \\frac{2y^2 - \\sin \\frac{x}{y}}{2y \\sqrt{2xy + \\cos \\frac{x}{y}}},$$\n",
    "\n",
    "$$\\frac{\\partial z}{\\partial y} = \\frac{2x + \\frac{x}{y^2}\\sin \\frac{x}{y}}{2 \\sqrt{2xy + \\cos \\frac{x}{y}}} = \\frac{x \\left(2y^2 + \\sin \\frac{x}{y} \\right)}{2y^2 \\sqrt{2xy + \\cos \\frac{x}{y}}}.$$\n",
    "\n",
    "Вычислим частные производные в точке $(1; 1)$\n",
    "\n",
    "$$\\left. \\frac{\\partial z}{\\partial x} \\right|_{(1; 1)} = \\frac{2 - \\sin 1}{2 \\sqrt{2 + \\cos 1}},$$\n",
    "\n",
    "$$\\left. \\frac{\\partial z}{\\partial y} \\right|_{(1; 1)} = \\frac{2 + \\sin 1}{2 \\sqrt{2 + \\cos 1}}.$$\n",
    "\n",
    "Получили полный дифференциал функции в точке $(1; 1)$:\n",
    "\n",
    "$$dz (1; 1) = \\frac{2 - \\sin 1}{2 \\sqrt{2 + \\cos 1}} \\: dx + \\frac{2 + \\sin 1}{2 \\sqrt{2 + \\cos 1}} \\: dy.$$"
   ]
  },
  {
   "cell_type": "markdown",
   "id": "bf94700f",
   "metadata": {},
   "source": [
    "### Задание 4 <a class='anchor' id='part_der_4'>\n",
    "\n",
    "*Исследовать на экстремум функцию*\n",
    "\n",
    "$$z = x^2 + xy + y^2 - 6x - 9y.$$"
   ]
  },
  {
   "cell_type": "markdown",
   "id": "0a385c43",
   "metadata": {},
   "source": [
    "Необходимые условия  экстремума:\n",
    "\n",
    "$$\\begin{cases}\n",
    "   z'_x = 2x + y - 6 = 0,\\\\\n",
    "   z'_y = x + 2y - 9 = 0.\n",
    " \\end{cases}$$\n",
    "\n",
    "Для решения системы уравнений вычтем из первого уравнения второе уравнение умноженное на -2 получим\n",
    "\n",
    "$$2x + y - 6 - 2x - 4y + 18 = 0,$$\n",
    "\n",
    "$$-3y + 12 = 0,$$\n",
    "\n",
    "$$y = 4.$$\n",
    "\n",
    "Выразим из второго уравнения $x$ и подставим вместо $y$ найденное значение:\n",
    "\n",
    "$$x = 9 - 2y = 9 - 8 = 1.$$\n",
    "\n",
    "$$\\begin{cases}\n",
    "   x = 1,\\\\\n",
    "   y = 4.\n",
    " \\end{cases}$$\n",
    "\n",
    "Получили стационарную точку $(1, 4)$. Исследуем эту точку на экстремум.\n",
    "\n",
    "Запишем вторые производные\n",
    "\n",
    "$$z''_{xx} = 2,$$\n",
    "\n",
    "$$z''_{yy} = 2,$$\n",
    "\n",
    "$$z''_{xy} = 1.$$\n",
    "\n",
    "Вычислим гессиан:\n",
    "\n",
    "$$\\Delta = \\begin{vmatrix}\n",
    "    z''_{xx} & z''_{xy} \\\\\n",
    "    z''_{xy} & z''_{yy}\n",
    "\\end{vmatrix} = \\begin{vmatrix}\n",
    "    2 & 1 \\\\\n",
    "    1 & 2\n",
    "\\end{vmatrix} = 4 - 1 = 3 > 0.$$\n",
    "\n",
    "Значит функция имеет в точке $(1, 4)$ экстремум. \n",
    "\n",
    "Т.к. $z''_{xx} = 2 > 0$, то это точка минимума.\n",
    "\n",
    "Получили точка $(1, 4)$ - точка экстремума функции $z = x^2 + xy + y^2 - 6x - 9y$, а именно точка **минимума**."
   ]
  }
 ],
 "metadata": {
  "kernelspec": {
   "display_name": "Python 3 (ipykernel)",
   "language": "python",
   "name": "python3"
  },
  "language_info": {
   "codemirror_mode": {
    "name": "ipython",
    "version": 3
   },
   "file_extension": ".py",
   "mimetype": "text/x-python",
   "name": "python",
   "nbconvert_exporter": "python",
   "pygments_lexer": "ipython3",
   "version": "3.10.0"
  }
 },
 "nbformat": 4,
 "nbformat_minor": 5
}
