{
 "cells": [
  {
   "cell_type": "markdown",
   "id": "a89ccecb",
   "metadata": {},
   "source": [
    "1. [Понятие об интеграле](#int)\n",
    "    *  [Задание 1](#int_1)\n",
    "    *  [Задание 2](#int_2)\n",
    "    *  [Задание 3](#int_3)\n",
    "    *  [Задание 4](#int_4)"
   ]
  },
  {
   "cell_type": "markdown",
   "id": "f5391281",
   "metadata": {},
   "source": [
    "# Понятие об интеграле <a class='anchor' id='int'>"
   ]
  },
  {
   "cell_type": "markdown",
   "id": "c29ccfe4",
   "metadata": {},
   "source": [
    "### Задание 1 <a class='anchor' id='int_1'>\n",
    "\n",
    "*Найти неопределенный интеграл*\n",
    "    \n",
    "$$\\int (2x^2 - 2x - 1 + \\sin x - \\cos x + \\ln x + e^x) dx.$$"
   ]
  },
  {
   "cell_type": "markdown",
   "id": "a0278827",
   "metadata": {},
   "source": [
    "$$\\int (2x^2 - 2x - 1 + \\sin x - \\cos x + \\ln x + e^x) dx = \\frac{2}{3}x^3 - x^2 - x - \\cos x - \\sin x + x \\ln x - x + e^x + C.$$\n",
    "\n",
    "Получили\n",
    "\n",
    "$$\\int (2x^2 - 2x - 1 + \\sin x - \\cos x + \\ln x + e^x) dx = \\frac{2}{3}x^3 - x^2 - 2x - \\cos x - \\sin x + x \\ln x + e^x + C.$$"
   ]
  },
  {
   "cell_type": "markdown",
   "id": "e48dc8af",
   "metadata": {},
   "source": [
    "### Задание 2 <a class='anchor' id='int_2'>\n",
    "\n",
    "*Найти неопределенный интеграл*\n",
    "    \n",
    "$$\\int (2x + 6xz^2 - 5x^2 y - 3 \\ln z) dx.$$"
   ]
  },
  {
   "cell_type": "markdown",
   "id": "10ba804d",
   "metadata": {},
   "source": [
    "Получили\n",
    "\n",
    "$$\\int (2x + 6xz^2 - 5x^2 y - 3 \\ln z) dx = x^2 + 3x^2 z^2 - \\frac{5}{3}x^3 y - 3 x \\ln z + C.$$"
   ]
  },
  {
   "cell_type": "markdown",
   "id": "9eb3e280",
   "metadata": {},
   "source": [
    "### Задание 3 <a class='anchor' id='int_3'>\n",
    "\n",
    "*Вычислить определенный интеграл*\n",
    "    \n",
    "$$\\int_0^\\pi 3x^2 \\sin (2x) dx.$$"
   ]
  },
  {
   "cell_type": "markdown",
   "id": "0c244592",
   "metadata": {},
   "source": [
    "Вычислим интеграл по частям\n",
    "\n",
    "$$\\int U dV = UV - \\int V dU.$$\n",
    "\n",
    "$$U = x^2 \\Rightarrow dU = 2x dx,$$\n",
    "\n",
    "$$dV = \\sin (2x) dx \\Rightarrow V = -\\frac{1}{2} \\cos (2x).$$\n",
    "\n",
    "Тогда\n",
    "\n",
    "$$\\int_0^\\pi 3x^2 \\sin (2x) dx = -\\frac{3}{2} x^2 \\cos (2x) \\Big|_0^\\pi + 3 \\int_0^\\pi x \\cos (2x) dx = - \\frac{3}{2}\\pi^2 + 3 \\int_0^\\pi x \\cos (2x) dx.$$\n",
    "\n",
    "Интеграл\n",
    "\n",
    "$$\\int_0^\\pi x \\cos (2x) dx$$\n",
    "\n",
    "также вычислим по частям. В этом случае\n",
    "\n",
    "$$U = x \\Rightarrow dU = dx,$$\n",
    "\n",
    "$$dV = \\cos (2x) dx \\Rightarrow V = \\frac{1}{2} \\sin (2x).$$\n",
    "\n",
    "Тогда\n",
    "\n",
    "$$\\int_0^\\pi x \\cos (2x) dx = \\frac{1}{2} x \\sin (2x) \\Big|_0^\\pi - \\frac{1}{2} \\int_0^\\pi \\sin (2x) dx = \\frac{1}{4} \\cos (2x) \\Big|_0^\\pi = 0.$$\n",
    "\n",
    "Получили\n",
    "\n",
    "$$\\int_0^\\pi 3x^2 \\sin (2x) dx = - \\frac{3}{2}\\pi^2.$$"
   ]
  },
  {
   "cell_type": "markdown",
   "id": "b1411e1c",
   "metadata": {},
   "source": [
    "### Задание 4 <a class='anchor' id='int_4'>\n",
    "\n",
    "*Найти неопределенный интеграл*\n",
    "    \n",
    "$$\\int \\frac{1}{\\sqrt{x + 1}} dx.$$"
   ]
  },
  {
   "cell_type": "markdown",
   "id": "6d3743bb",
   "metadata": {},
   "source": [
    "$$\\int \\frac{1}{\\sqrt{x + 1}} dx = \\int (x + 1)^{-\\frac{1}{2}} d(x + 1) = 2 (x + 1)^{\\frac{1}{2}} + C.$$\n",
    "\n",
    "Получили\n",
    "\n",
    "$$\\int \\frac{1}{\\sqrt{x + 1}} dx = 2 \\sqrt{x + 1} + C.$$"
   ]
  }
 ],
 "metadata": {
  "kernelspec": {
   "display_name": "Python 3 (ipykernel)",
   "language": "python",
   "name": "python3"
  },
  "language_info": {
   "codemirror_mode": {
    "name": "ipython",
    "version": 3
   },
   "file_extension": ".py",
   "mimetype": "text/x-python",
   "name": "python",
   "nbconvert_exporter": "python",
   "pygments_lexer": "ipython3",
   "version": "3.10.0"
  }
 },
 "nbformat": 4,
 "nbformat_minor": 5
}
