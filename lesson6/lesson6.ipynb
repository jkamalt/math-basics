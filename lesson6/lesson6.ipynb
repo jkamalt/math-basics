{
 "cells": [
  {
   "cell_type": "markdown",
   "id": "22b1e300",
   "metadata": {},
   "source": [
    "1. [Понятие о производной](#der)\n",
    "    *  [Задание 1](#der_1)\n",
    "        *  [Пример 1](#der_1_1)\n",
    "        *  [Пример 2](#der_1_2)\n",
    "        *  [Пример 3](#der_1_3)\n",
    "        *  [Пример 4](#der_1_4)\n",
    "    *  [Задание 2](#der_2)\n",
    "    *  [Задание 3](#der_3)\n",
    "    *  [Задание 4](#der_4)"
   ]
  },
  {
   "cell_type": "markdown",
   "id": "2464a44d",
   "metadata": {},
   "source": [
    "# Понятие о производной <a class='anchor' id='der'>"
   ]
  },
  {
   "cell_type": "markdown",
   "id": "f477008e",
   "metadata": {},
   "source": [
    "### Задание 1 <a class='anchor' id='der_1'>\n",
    "\n",
    "*Найти производную выражения.*"
   ]
  },
  {
   "cell_type": "markdown",
   "id": "4c131fd7",
   "metadata": {},
   "source": [
    "#### Пример 1 <a class='anchor' id='der_1_1'>\n",
    "\n",
    "$$f(x) = \\sin x \\cdot \\cos x.$$"
   ]
  },
  {
   "cell_type": "markdown",
   "id": "6b09bc81",
   "metadata": {},
   "source": [
    "$$f'(x) = \\left( \\sin x \\cdot \\cos x \\right)' = \\cos^2 x - \\sin^2 x = \\cos 2x.$$\n",
    "\n",
    "Получили\n",
    "\n",
    "$$f'(x) = \\cos 2x.$$"
   ]
  },
  {
   "cell_type": "markdown",
   "id": "90f5858d",
   "metadata": {},
   "source": [
    "#### Пример 2 <a class='anchor' id='der_1_2'>\n",
    "\n",
    "$$f(x) = \\ln (2x + 1)^3.$$"
   ]
  },
  {
   "cell_type": "markdown",
   "id": "5e0e4265",
   "metadata": {},
   "source": [
    "$$f'(x) = \\left( \\ln (2x + 1)^3 \\right)' = \\frac{1}{(2x + 1)^3} \\: 3 \\: (2x + 1)^2 \\: 2 = \\frac{6}{2x + 1}.$$\n",
    "\n",
    "Получили\n",
    "\n",
    "$$f'(x) = \\frac{6}{2x + 1}.$$"
   ]
  },
  {
   "cell_type": "markdown",
   "id": "8ff2bd1c",
   "metadata": {},
   "source": [
    "#### Пример 3 <a class='anchor' id='der_1_3'>\n",
    "\n",
    "$$f(x) = \\sqrt{\\sin^2 \\left(\\ln (x^3) \\right)}.$$"
   ]
  },
  {
   "cell_type": "markdown",
   "id": "d957b195",
   "metadata": {},
   "source": [
    "$$f'(x) = \\left( \\sqrt{\\sin^2 \\left(\\ln (x^3) \\right)} \\right)' = \\frac{1}{2} \\frac{1}{\\sqrt{\\sin^2 \\left( \\ln (x^3) \\right)}} \\; 2 \\sin \\left( \\ln (x^3) \\right) \\; \\cos \\left( \\ln (x^3) \\right) \\; \\frac{1}{x^3} \\; 3x^2 = $$\n",
    "\n",
    "$$= \\frac{3}{2} \\frac{1}{x} \\frac{\\sin \\left( 2 \\ln (x^3) \\right)}{\\sqrt{\\sin^2 \\left( \\ln (x^3) \\right)}}.$$\n",
    "\n",
    "Получили\n",
    "\n",
    "$$f'(x) = \\frac{3}{2} \\frac{1}{x} \\frac{\\sin \\left( 2 \\ln (x^3) \\right)}{\\sqrt{\\sin^2 \\left( \\ln (x^3) \\right)}}.$$"
   ]
  },
  {
   "cell_type": "markdown",
   "id": "44659d53",
   "metadata": {},
   "source": [
    "#### Пример 4 <a class='anchor' id='der_1_4'>\n",
    "\n",
    "$$f(x) = \\frac{x^4}{\\ln x}.$$"
   ]
  },
  {
   "cell_type": "markdown",
   "id": "a0e419e3",
   "metadata": {},
   "source": [
    "$$f'(x) = \\left( \\frac{x^4}{\\ln x} \\right)' = \\frac{4x^3 \\: \\ln x - \\frac{x^4}{x}}{\\ln^2 x} = \\frac{x^3 (4 \\ln x -1)}{\\ln^2 x}.$$\n",
    "\n",
    "Получили\n",
    "\n",
    "$$f'(x) = \\frac{x^3 (4 \\ln x -1)}{\\ln^2 x}.$$"
   ]
  },
  {
   "cell_type": "markdown",
   "id": "0140b7f1",
   "metadata": {},
   "source": [
    "### Задание 2 <a class='anchor' id='der_2'>\n",
    "\n",
    "*Найти выражение производной функции и ее значение в точке:*\n",
    "\n",
    "$$f(x) = \\cos (x^2 + 3x), \\; x_0 = \\sqrt{\\pi}.$$"
   ]
  },
  {
   "cell_type": "markdown",
   "id": "75f91bbe",
   "metadata": {},
   "source": [
    "Вычислим производную:\n",
    "\n",
    "$$f'(x) = -\\sin (x^2 + 3x) (2x + 3).$$\n",
    "\n",
    "Найдем значение производной в точке $x_0 = \\sqrt{\\pi}$:\n",
    "\n",
    "$$f' \\left( \\sqrt{\\pi} \\right) = -\\sin \\left( \\pi + 3 \\sqrt{\\pi} \\right) \\left(2 \\sqrt{\\pi} + 3 \\right) = $$\n",
    "\n",
    "$$= - \\left( \\sin \\pi \\: \\cos \\left( 3 \\sqrt{\\pi} \\right) + \\cos \\pi \\: \\sin \\left( 3 \\sqrt{\\pi} \\right) \\right) \\left(2 \\sqrt{\\pi} + 3 \\right) = \\sin \\left( 3 \\sqrt{\\pi} \\right) \\left(2 \\sqrt{\\pi} + 3 \\right).$$\n",
    "\n",
    "Получили\n",
    "\n",
    "$$f'(x) = -\\sin (x^2 + 3x) (2x + 3),$$\n",
    "\n",
    "$$f' \\left( \\sqrt{\\pi} \\right) = \\sin \\left( 3 \\sqrt{\\pi} \\right) \\left(2 \\sqrt{\\pi} + 3 \\right).$$"
   ]
  },
  {
   "cell_type": "markdown",
   "id": "2a417012",
   "metadata": {},
   "source": [
    "### Задание 3 <a class='anchor' id='der_3'>\n",
    "\n",
    "*Найти значение производной функции в точке:*\n",
    "\n",
    "$$f(x) = \\frac{x^3 - x^2 - x - 1}{1 + 2x + 3 x^2 - 4 x^3}, \\; x_0 = 0.$$"
   ]
  },
  {
   "cell_type": "markdown",
   "id": "4b61d2f7",
   "metadata": {},
   "source": [
    "Вычислим производную:\n",
    "\n",
    "$$f'(x) = \\frac{(3x^2 - 2x -1)(1 + 2x + 3 x^2 - 4 x^3) - (x^3 - x^2 - x - 1)(2 + 6x - 12x^2)}{(1 + 2x + 3 x^2 - 4 x^3)^2}.$$\n",
    "\n",
    "Найдем значение производной в точке $x_0 = 0$:\n",
    "\n",
    "$$f'(0) = \\frac{-1 + 2}{1} = 1.$$\n",
    "\n",
    "Получили\n",
    "\n",
    "$$f'(0) = 1.$$"
   ]
  },
  {
   "cell_type": "markdown",
   "id": "153262af",
   "metadata": {},
   "source": [
    "### Задание 4 <a class='anchor' id='der_4'>\n",
    "\n",
    "*Найти угол наклона касательной к графику функции в точке:*\n",
    "\n",
    "$$f(x) = \\sqrt{3x} \\cdot \\ln x, \\; x_0 = 1.$$"
   ]
  },
  {
   "cell_type": "markdown",
   "id": "ac7293fd",
   "metadata": {},
   "source": [
    "Вычислим производную:\n",
    "\n",
    "$$f'(x) = \\frac{\\sqrt{3x}}{x} + \\frac{3 \\ln x}{2 \\sqrt{3x}}.$$\n",
    "\n",
    "Найдем значение производной в точке $x_0 = 1$:\n",
    "\n",
    "$$f'(1) = \\sqrt{3}.$$\n",
    "\n",
    "Геометрический смысл производной в точке - это тангенс угла наклона касательной к графику в этой точке\n",
    "\n",
    "$$f'(x_0) = \\tan \\alpha.$$\n",
    "\n",
    "Тогда\n",
    "\n",
    "$$\\tan \\alpha = \\sqrt{3}.$$\n",
    "\n",
    "Тогда угол наклона касательной в точке $x_0 = 1$ равен\n",
    "\n",
    "$$\\alpha = \\arctan \\sqrt{3} = \\frac{\\pi}{3}.$$\n",
    "\n",
    "Получили\n",
    "\n",
    "$$\\alpha = \\frac{\\pi}{3}.$$"
   ]
  }
 ],
 "metadata": {
  "kernelspec": {
   "display_name": "Python 3 (ipykernel)",
   "language": "python",
   "name": "python3"
  },
  "language_info": {
   "codemirror_mode": {
    "name": "ipython",
    "version": 3
   },
   "file_extension": ".py",
   "mimetype": "text/x-python",
   "name": "python",
   "nbconvert_exporter": "python",
   "pygments_lexer": "ipython3",
   "version": "3.10.0"
  }
 },
 "nbformat": 4,
 "nbformat_minor": 5
}
