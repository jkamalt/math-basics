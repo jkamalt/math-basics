{
 "cells": [
  {
   "cell_type": "code",
   "execution_count": 1,
   "id": "dbb53dd9",
   "metadata": {},
   "outputs": [],
   "source": [
    "import numpy as np\n",
    "import matplotlib\n",
    "from matplotlib import pyplot as plt\n",
    "%matplotlib inline"
   ]
  },
  {
   "cell_type": "markdown",
   "id": "4565bb4b",
   "metadata": {},
   "source": [
    "1. [Теоремы о пределах](#limit_theorems)\n",
    "    *  [Задание 1](#limit_theorems_1)\n",
    "        *  [Пример 1](#limit_theorems_1_1)\n",
    "        *  [Пример 2](#limit_theorems_1_2)\n",
    "        *  [Пример 3](#limit_theorems_1_3)"
   ]
  },
  {
   "cell_type": "markdown",
   "id": "cf951ce8",
   "metadata": {},
   "source": [
    "# Теоремы о пределах <a class='anchor' id='limit_theorems'>"
   ]
  },
  {
   "cell_type": "markdown",
   "id": "7cc810c7",
   "metadata": {},
   "source": [
    "### Задание 1 <a class='anchor' id='limit_theorems_1'>\n",
    "\n",
    "*Найти предел.*"
   ]
  },
  {
   "cell_type": "markdown",
   "id": "e0230043",
   "metadata": {},
   "source": [
    "#### Пример 1 <a class='anchor' id='limit_theorems_1_1'>\n",
    "\n",
    "$$\\lim_{x \\to 0} \\: \\frac{x}{\\arcsin x}.$$"
   ]
  },
  {
   "cell_type": "markdown",
   "id": "d4df7230",
   "metadata": {},
   "source": [
    "Сделаем замену\n",
    "\n",
    "$$y = \\arcsin x.$$\n",
    "\n",
    "Тогда\n",
    "\n",
    "$$x = \\sin y.$$\n",
    "\n",
    "Т.к. $x \\to 0$, то также и $y \\to 0$. Получим после замены\n",
    "\n",
    "$$\\lim_{y \\to 0} \\: \\frac{\\sin y}{y} = 1$$\n",
    "\n",
    "согласно первому замечательному пределу.\n",
    "\n",
    "Получили\n",
    "\n",
    "$$\\lim_{x \\to 0} \\: \\frac{x}{\\arcsin x} = 1.$$"
   ]
  },
  {
   "cell_type": "markdown",
   "id": "697fee47",
   "metadata": {},
   "source": [
    "#### Пример 2 <a class='anchor' id='limit_theorems_1_2'>\n",
    "\n",
    "$$\\lim_{x \\to \\infty} \\: \\left(\\frac{4x + 3}{4x - 3}\\right)^{6x}.$$"
   ]
  },
  {
   "cell_type": "markdown",
   "id": "0f8a07c7",
   "metadata": {},
   "source": [
    "Здесь неопределенность вида $1^{\\infty}$. Выделим единицу, для этого в числителе прибавим и вычтем 3:\n",
    "\n",
    "$$\\lim_{x \\to \\infty} \\: \\left(\\frac{4x + 3}{4x - 3}\\right)^{6x} = \\lim_{x \\to \\infty} \\: \\left(\\frac{4x - 3 + 6}{4x - 3}\\right)^{6x} = \\lim_{x \\to \\infty} \\: \\left(1 + \\frac{6}{4x - 3}\\right)^{6x}.$$\n",
    "\n",
    "Умножим и разделим степень на $\\frac{4x - 3}{6}:$\n",
    "\n",
    "$$\\lim_{x \\to \\infty} \\: \\left(1 + \\frac{6}{4x - 3}\\right)^{6x} = \\lim_{x \\to \\infty} \\: \\left(1 + \\frac{6}{4x - 3}\\right)^{\\frac{4x - 3}{6} \\frac{6}{4x - 3} 6x}.$$\n",
    "\n",
    "Получили второй замечательный предел:\n",
    "\n",
    "$$\\lim_{x \\to \\infty} \\: \\left(1 + \\frac{6}{4x - 3}\\right)^{\\frac{4x - 3}{6}} = e.$$\n",
    "\n",
    "Тогда\n",
    "\n",
    "$$\\lim_{x \\to \\infty} \\: \\left(1 + \\frac{6}{4x - 3}\\right)^{\\frac{4x - 3}{6} \\frac{6}{4x - 3} 6x} = \\lim_{x \\to \\infty} \\: e^{\\frac{36x}{4x - 3}} = e^{\\lim_{x \\to \\infty} \\: \\frac{36x}{4x - 3}} = e^{\\frac{36}{4}} = e^9.$$\n",
    "\n",
    "Здесь использовали свойство предела:\n",
    "\n",
    "$$\\lim_{x \\to x_0} \\: a^{f(x)} = a^{\\lim_{x \\to x_0} \\: f(x)}.$$\n",
    "\n",
    "Получили\n",
    "\n",
    "$$\\lim_{x \\to \\infty} \\: \\left(\\frac{4x + 3}{4x - 3}\\right)^{6x} = e^9.$$"
   ]
  },
  {
   "cell_type": "markdown",
   "id": "86eb18dc",
   "metadata": {},
   "source": [
    "#### Пример 3 <a class='anchor' id='limit_theorems_1_3'>\n",
    "\n",
    "$$\\lim_{x \\to \\infty} \\: \\frac{\\sin x + \\ln x}{x}.$$"
   ]
  },
  {
   "cell_type": "markdown",
   "id": "083888de",
   "metadata": {},
   "source": [
    "Можно записать\n",
    "\n",
    "$$\\lim_{x \\to \\infty} \\: \\frac{\\sin x + \\ln x}{x} = \\lim_{x \\to \\infty} \\: \\left( \\frac{\\sin x}{x} + \\frac{\\ln x}{x} \\right).$$\n",
    "\n",
    "Т.к. предел каждого из слагаемых существует, то можно использовать свойство предела\n",
    "\n",
    "$$\\lim_{x \\to a} \\: (f(x) + g(x)) = \\lim_{x \\to a} f(x) + \\lim_{x \\to a} g(x).$$\n",
    "\n",
    "Тогда\n",
    "\n",
    "$$\\lim_{x \\to \\infty} \\: \\left( \\frac{\\sin x}{x} + \\frac{\\ln x}{x} \\right) = \\lim_{x \\to \\infty} \\: \\frac{\\sin x}{x} + \\lim_{x \\to \\infty} \\: \\frac{\\ln x}{x} = 0.$$\n",
    "\n",
    "Получили:\n",
    "\n",
    "$$\\lim_{x \\to \\infty} \\: \\frac{\\sin x + \\ln x}{x} = 0.$$"
   ]
  }
 ],
 "metadata": {
  "kernelspec": {
   "display_name": "Python 3 (ipykernel)",
   "language": "python",
   "name": "python3"
  },
  "language_info": {
   "codemirror_mode": {
    "name": "ipython",
    "version": 3
   },
   "file_extension": ".py",
   "mimetype": "text/x-python",
   "name": "python",
   "nbconvert_exporter": "python",
   "pygments_lexer": "ipython3",
   "version": "3.10.0"
  }
 },
 "nbformat": 4,
 "nbformat_minor": 5
}
